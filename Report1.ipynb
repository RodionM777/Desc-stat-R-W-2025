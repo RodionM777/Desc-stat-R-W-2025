{
 "cells": [
  {
   "cell_type": "markdown",
   "metadata": {},
   "source": [
    "Learn how to summarize the columns available in an R data frame. \n",
    "  You will also learn how to chain operations together with the\n",
    "  pipe operator, and how to compute grouped summaries using."
   ]
  },
  {
   "cell_type": "markdown",
   "metadata": {},
   "source": [
    "## Welcome!\n",
    "\n",
    "Hey there! Ready for the first lesson?\n",
    "\n",
    "The dfply package makes it possible to do R's dplyr-style data manipulation with pipes in python on pandas DataFrames.\n",
    "\n",
    "[dfply website here](https://github.com/kieferk/dfply)\n",
    "\n",
    "[![](https://www.rforecology.com/pipes_image0.png \"https://github.com/kieferk/dfply\"){width=\"600\"}](https://github.com/kieferk/dfply)"
   ]
  },
  {
   "cell_type": "code",
   "execution_count": 4,
   "metadata": {},
   "outputs": [
    {
     "data": {
      "text/html": [
       "<div>\n",
       "<style scoped>\n",
       "    .dataframe tbody tr th:only-of-type {\n",
       "        vertical-align: middle;\n",
       "    }\n",
       "\n",
       "    .dataframe tbody tr th {\n",
       "        vertical-align: top;\n",
       "    }\n",
       "\n",
       "    .dataframe thead th {\n",
       "        text-align: right;\n",
       "    }\n",
       "</style>\n",
       "<table border=\"1\" class=\"dataframe\">\n",
       "  <thead>\n",
       "    <tr style=\"text-align: right;\">\n",
       "      <th></th>\n",
       "      <th>mpg</th>\n",
       "      <th>cylinders</th>\n",
       "      <th>displacement</th>\n",
       "      <th>horsepower</th>\n",
       "      <th>weight</th>\n",
       "      <th>acceleration</th>\n",
       "      <th>model_year</th>\n",
       "      <th>origin</th>\n",
       "      <th>name</th>\n",
       "    </tr>\n",
       "  </thead>\n",
       "  <tbody>\n",
       "    <tr>\n",
       "      <th>0</th>\n",
       "      <td>18.0</td>\n",
       "      <td>8</td>\n",
       "      <td>307.0</td>\n",
       "      <td>130.0</td>\n",
       "      <td>3504</td>\n",
       "      <td>12.0</td>\n",
       "      <td>70</td>\n",
       "      <td>usa</td>\n",
       "      <td>chevrolet chevelle malibu</td>\n",
       "    </tr>\n",
       "    <tr>\n",
       "      <th>1</th>\n",
       "      <td>15.0</td>\n",
       "      <td>8</td>\n",
       "      <td>350.0</td>\n",
       "      <td>165.0</td>\n",
       "      <td>3693</td>\n",
       "      <td>11.5</td>\n",
       "      <td>70</td>\n",
       "      <td>usa</td>\n",
       "      <td>buick skylark 320</td>\n",
       "    </tr>\n",
       "    <tr>\n",
       "      <th>2</th>\n",
       "      <td>18.0</td>\n",
       "      <td>8</td>\n",
       "      <td>318.0</td>\n",
       "      <td>150.0</td>\n",
       "      <td>3436</td>\n",
       "      <td>11.0</td>\n",
       "      <td>70</td>\n",
       "      <td>usa</td>\n",
       "      <td>plymouth satellite</td>\n",
       "    </tr>\n",
       "  </tbody>\n",
       "</table>\n",
       "</div>"
      ],
      "text/plain": [
       "    mpg  cylinders  displacement  horsepower  weight  acceleration  \\\n",
       "0  18.0          8         307.0       130.0    3504          12.0   \n",
       "1  15.0          8         350.0       165.0    3693          11.5   \n",
       "2  18.0          8         318.0       150.0    3436          11.0   \n",
       "\n",
       "   model_year origin                       name  \n",
       "0          70    usa  chevrolet chevelle malibu  \n",
       "1          70    usa          buick skylark 320  \n",
       "2          70    usa         plymouth satellite  "
      ]
     },
     "execution_count": 4,
     "metadata": {},
     "output_type": "execute_result"
    }
   ],
   "source": [
    "import pandas as pd\n",
    "import seaborn as sns\n",
    "cars = sns.load_dataset('mpg')\n",
    "from dfply import *\n",
    "cars >> head(3)"
   ]
  },
  {
   "cell_type": "markdown",
   "metadata": {},
   "source": [
    "### Exercise 1.\n",
    "\n",
    "Select the columns 'mpg' and 'horsepower' from the cars DataFrame."
   ]
  },
  {
   "cell_type": "code",
   "execution_count": 5,
   "metadata": {},
   "outputs": [
    {
     "name": "stdout",
     "output_type": "stream",
     "text": [
      "      mpg  horsepower\n",
      "0    18.0       130.0\n",
      "1    15.0       165.0\n",
      "2    18.0       150.0\n",
      "3    16.0       150.0\n",
      "4    17.0       140.0\n",
      "..    ...         ...\n",
      "393  27.0        86.0\n",
      "394  44.0        52.0\n",
      "395  32.0        84.0\n",
      "396  28.0        79.0\n",
      "397  31.0        82.0\n",
      "\n",
      "[398 rows x 2 columns]\n"
     ]
    }
   ],
   "source": [
    "selected_columns = cars[['mpg', 'horsepower']]\n",
    "print(selected_columns)"
   ]
  },
  {
   "cell_type": "markdown",
   "metadata": {},
   "source": [
    "## Selecting and dropping\n",
    "\n",
    "There are two functions for selection, inverse of each other: select and drop. The select and drop functions accept string labels, integer positions, and/or symbolically represented column names (X.column). They also accept symbolic \"selection filter\" functions, which will be covered shortly.\n",
    "\n",
    "### Exercise 2.\n",
    "\n",
    "Select the columns 'mpg' and 'horsepower' from the cars DataFrame using the drop function."
   ]
  },
  {
   "cell_type": "code",
   "execution_count": 6,
   "metadata": {},
   "outputs": [
    {
     "name": "stdout",
     "output_type": "stream",
     "text": [
      "      mpg  horsepower\n",
      "0    18.0       130.0\n",
      "1    15.0       165.0\n",
      "2    18.0       150.0\n",
      "3    16.0       150.0\n",
      "4    17.0       140.0\n",
      "..    ...         ...\n",
      "393  27.0        86.0\n",
      "394  44.0        52.0\n",
      "395  32.0        84.0\n",
      "396  28.0        79.0\n",
      "397  31.0        82.0\n",
      "\n",
      "[398 rows x 2 columns]\n"
     ]
    }
   ],
   "source": [
    "selected_columns = cars >> drop(X.columns.difference([\"mpg\",\"horsepower\"]))\n",
    "print(selected_columns)"
   ]
  },
  {
   "cell_type": "markdown",
   "metadata": {},
   "source": [
    "## Selection using \\~\n",
    "\n",
    "One particularly nice thing about dplyr's selection functions is that you can drop columns inside of a select statement by putting a subtraction sign in front, like so: ... %>% select(-col). The same can be done in dfply, but instead of the subtraction operator you use the tilde ~.\n",
    "\n",
    "### Exercise 3.\n",
    "\n",
    "Select all columns except 'model_year', and 'name' from the cars DataFrame."
   ]
  },
  {
   "cell_type": "code",
   "execution_count": 6,
   "metadata": {},
   "outputs": [
    {
     "name": "stdout",
     "output_type": "stream",
     "text": [
      "      mpg  cylinders  displacement  horsepower  weight  acceleration  origin\n",
      "0    18.0          8         307.0       130.0    3504          12.0     usa\n",
      "1    15.0          8         350.0       165.0    3693          11.5     usa\n",
      "2    18.0          8         318.0       150.0    3436          11.0     usa\n",
      "3    16.0          8         304.0       150.0    3433          12.0     usa\n",
      "4    17.0          8         302.0       140.0    3449          10.5     usa\n",
      "..    ...        ...           ...         ...     ...           ...     ...\n",
      "393  27.0          4         140.0        86.0    2790          15.6     usa\n",
      "394  44.0          4          97.0        52.0    2130          24.6  europe\n",
      "395  32.0          4         135.0        84.0    2295          11.6     usa\n",
      "396  28.0          4         120.0        79.0    2625          18.6     usa\n",
      "397  31.0          4         119.0        82.0    2720          19.4     usa\n",
      "\n",
      "[398 rows x 7 columns]\n"
     ]
    }
   ],
   "source": [
    "from dfply import *\n",
    "\n",
    "selected_data = cars >> select(~X.model_year, ~X.name)\n",
    "print(selected_data)"
   ]
  },
  {
   "cell_type": "markdown",
   "metadata": {},
   "source": [
    "## Filtering columns\n",
    "\n",
    "The vanilla select and drop functions are useful, but there are a variety of selection functions inspired by dplyr available to make selecting and dropping columns a breeze. These functions are intended to be put inside of the select and drop functions, and can be paired with the ~ inverter.\n",
    "\n",
    "First, a quick rundown of the available functions:\n",
    "\n",
    "-   starts_with(prefix): find columns that start with a string prefix.\n",
    "-   ends_with(suffix): find columns that end with a string suffix.\n",
    "-   contains(substr): find columns that contain a substring in their name.\n",
    "-   everything(): all columns.\n",
    "-   columns_between(start_col, end_col, inclusive=True): find columns between a specified start and end column. The inclusive boolean keyword argument indicates whether the end column should be included or not.\n",
    "-   columns_to(end_col, inclusive=True): get columns up to a specified end column. The inclusive argument indicates whether the ending column should be included or not.\n",
    "-   columns_from(start_col): get the columns starting at a specified column.\n",
    "\n",
    "### Exercise 4.\n",
    "\n",
    "The selection filter functions are best explained by example. Let's say I wanted to select only the columns that started with a \"c\":"
   ]
  },
  {
   "cell_type": "code",
   "execution_count": 7,
   "metadata": {},
   "outputs": [
    {
     "name": "stdout",
     "output_type": "stream",
     "text": [
      "     cylinders\n",
      "0            8\n",
      "1            8\n",
      "2            8\n",
      "3            8\n",
      "4            8\n",
      "..         ...\n",
      "393          4\n",
      "394          4\n",
      "395          4\n",
      "396          4\n",
      "397          4\n",
      "\n",
      "[398 rows x 1 columns]\n"
     ]
    }
   ],
   "source": [
    "from dfply import *\n",
    "\n",
    "selected_data = cars >> select(starts_with(\"c\"))\n",
    "print(selected_data)"
   ]
  },
  {
   "cell_type": "markdown",
   "metadata": {},
   "source": [
    "### Exercise 5.\n",
    "\n",
    "Select the columns that contain the substring \"e\" from the cars DataFrame."
   ]
  },
  {
   "cell_type": "code",
   "execution_count": 8,
   "metadata": {},
   "outputs": [
    {
     "name": "stdout",
     "output_type": "stream",
     "text": [
      "     cylinders  displacement  horsepower  weight  acceleration  model_year  \\\n",
      "0            8         307.0       130.0    3504          12.0          70   \n",
      "1            8         350.0       165.0    3693          11.5          70   \n",
      "2            8         318.0       150.0    3436          11.0          70   \n",
      "3            8         304.0       150.0    3433          12.0          70   \n",
      "4            8         302.0       140.0    3449          10.5          70   \n",
      "..         ...           ...         ...     ...           ...         ...   \n",
      "393          4         140.0        86.0    2790          15.6          82   \n",
      "394          4          97.0        52.0    2130          24.6          82   \n",
      "395          4         135.0        84.0    2295          11.6          82   \n",
      "396          4         120.0        79.0    2625          18.6          82   \n",
      "397          4         119.0        82.0    2720          19.4          82   \n",
      "\n",
      "                          name  \n",
      "0    chevrolet chevelle malibu  \n",
      "1            buick skylark 320  \n",
      "2           plymouth satellite  \n",
      "3                amc rebel sst  \n",
      "4                  ford torino  \n",
      "..                         ...  \n",
      "393            ford mustang gl  \n",
      "394                  vw pickup  \n",
      "395              dodge rampage  \n",
      "396                ford ranger  \n",
      "397                 chevy s-10  \n",
      "\n",
      "[398 rows x 7 columns]\n"
     ]
    }
   ],
   "source": [
    "from dfply import *\n",
    "\n",
    "selected_data = cars >> select(contains(\"e\"))\n",
    "print(selected_data)"
   ]
  },
  {
   "cell_type": "markdown",
   "metadata": {},
   "source": [
    "### Exercise 6.\n",
    "\n",
    "Select the columns that are between 'mpg' and 'origin' from the cars DataFrame."
   ]
  },
  {
   "cell_type": "code",
   "execution_count": 10,
   "metadata": {},
   "outputs": [
    {
     "name": "stdout",
     "output_type": "stream",
     "text": [
      "      mpg  cylinders  displacement  horsepower  weight  acceleration  \\\n",
      "0    18.0          8         307.0       130.0    3504          12.0   \n",
      "1    15.0          8         350.0       165.0    3693          11.5   \n",
      "2    18.0          8         318.0       150.0    3436          11.0   \n",
      "3    16.0          8         304.0       150.0    3433          12.0   \n",
      "4    17.0          8         302.0       140.0    3449          10.5   \n",
      "..    ...        ...           ...         ...     ...           ...   \n",
      "393  27.0          4         140.0        86.0    2790          15.6   \n",
      "394  44.0          4          97.0        52.0    2130          24.6   \n",
      "395  32.0          4         135.0        84.0    2295          11.6   \n",
      "396  28.0          4         120.0        79.0    2625          18.6   \n",
      "397  31.0          4         119.0        82.0    2720          19.4   \n",
      "\n",
      "     model_year  origin  \n",
      "0            70     usa  \n",
      "1            70     usa  \n",
      "2            70     usa  \n",
      "3            70     usa  \n",
      "4            70     usa  \n",
      "..          ...     ...  \n",
      "393          82     usa  \n",
      "394          82  europe  \n",
      "395          82     usa  \n",
      "396          82     usa  \n",
      "397          82     usa  \n",
      "\n",
      "[398 rows x 8 columns]\n"
     ]
    }
   ],
   "source": [
    "from dfply import *\n",
    "\n",
    "selected_data = cars >> select(columns_between(\"mpg\", \"origin\"))\n",
    "print(selected_data)"
   ]
  },
  {
   "cell_type": "markdown",
   "metadata": {},
   "source": [
    "## Subsetting and filtering\n",
    "\n",
    "### row_slice()\n",
    "\n",
    "Slices of rows can be selected with the row_slice() function. You can pass single integer indices or a list of indices to select rows as with. This is going to be the same as using pandas' .iloc.\n",
    "\n",
    "#### Exercise 7.\n",
    "\n",
    "Select the first three rows from the cars DataFrame."
   ]
  },
  {
   "cell_type": "code",
   "execution_count": null,
   "metadata": {},
   "outputs": [
    {
     "name": "stdout",
     "output_type": "stream",
     "text": [
      "    mpg  cylinders  displacement  horsepower  weight  acceleration  \\\n",
      "0  18.0          8         307.0       130.0    3504          12.0   \n",
      "1  15.0          8         350.0       165.0    3693          11.5   \n",
      "2  18.0          8         318.0       150.0    3436          11.0   \n",
      "\n",
      "   model_year origin                       name  \n",
      "0          70    usa  chevrolet chevelle malibu  \n",
      "1          70    usa          buick skylark 320  \n",
      "2          70    usa         plymouth satellite  \n"
     ]
    }
   ],
   "source": [
    "from dfply import *\n",
    "\n",
    "selected_rows = cars >> row_slice([0, 1, 2])  \n",
    "print(selected_rows)"
   ]
  },
  {
   "cell_type": "markdown",
   "metadata": {},
   "source": [
    "### distinct()\n",
    "\n",
    "Selection of unique rows is done with distinct(), which similarly passes arguments and keyword arguments through to the DataFrame's .drop_duplicates() method.\n",
    "\n",
    "#### Exercise 8.\n",
    "\n",
    "Select the unique rows from the 'origin' column in the cars DataFrame."
   ]
  },
  {
   "cell_type": "code",
   "execution_count": null,
   "metadata": {},
   "outputs": [
    {
     "name": "stdout",
     "output_type": "stream",
     "text": [
      "     mpg  cylinders  displacement  horsepower  weight  acceleration  \\\n",
      "0   18.0          8         307.0       130.0    3504          12.0   \n",
      "14  24.0          4         113.0        95.0    2372          15.0   \n",
      "19  26.0          4          97.0        46.0    1835          20.5   \n",
      "\n",
      "    model_year  origin                          name  \n",
      "0           70     usa     chevrolet chevelle malibu  \n",
      "14          70   japan         toyota corona mark ii  \n",
      "19          70  europe  volkswagen 1131 deluxe sedan  \n"
     ]
    }
   ],
   "source": [
    "from dfply import *\n",
    "\n",
    "unique_origins = cars >> distinct(X.origin)\n",
    "print(unique_origins)"
   ]
  },
  {
   "cell_type": "markdown",
   "metadata": {},
   "source": [
    "## mask()\n",
    "\n",
    "Filtering rows with logical criteria is done with mask(), which accepts boolean arrays \"masking out\" False labeled rows and keeping True labeled rows. These are best created with logical statements on symbolic Series objects as shown below. Multiple criteria can be supplied as arguments and their intersection will be used as the mask.\n",
    "\n",
    "### Exercise 9.\n",
    "\n",
    "Filter the cars DataFrame to only include rows where the 'mpg' is greater than 20, origin Japan, and display the first three rows:"
   ]
  },
  {
   "cell_type": "code",
   "execution_count": 21,
   "metadata": {},
   "outputs": [
    {
     "name": "stdout",
     "output_type": "stream",
     "text": [
      "     mpg  cylinders  displacement  horsepower  weight  acceleration  \\\n",
      "14  24.0          4         113.0        95.0    2372          15.0   \n",
      "18  27.0          4          97.0        88.0    2130          14.5   \n",
      "29  27.0          4          97.0        88.0    2130          14.5   \n",
      "\n",
      "    model_year origin                   name  \n",
      "14          70  japan  toyota corona mark ii  \n",
      "18          70  japan           datsun pl510  \n",
      "29          71  japan           datsun pl510  \n"
     ]
    }
   ],
   "source": [
    "from dfply import *\n",
    "\n",
    "filtered_cars = (cars >> mask((X.mpg > 20) & (X.origin == \"japan\")))\n",
    "print(filtered_cars.head(3))"
   ]
  },
  {
   "cell_type": "markdown",
   "metadata": {},
   "source": [
    "## pull()\n",
    "\n",
    "The pull() function is used to extract a single column from a DataFrame as a pandas Series. This is useful for passing a single column to a function or for further manipulation.\n",
    "\n",
    "### Exercise 10.\n",
    "\n",
    "Extract the 'mpg' column from the cars DataFrame, japanese origin, model year 70s, and display the first three rows."
   ]
  },
  {
   "cell_type": "code",
   "execution_count": 25,
   "metadata": {},
   "outputs": [
    {
     "name": "stdout",
     "output_type": "stream",
     "text": [
      "     mpg\n",
      "14  24.0\n",
      "18  27.0\n",
      "29  27.0\n"
     ]
    }
   ],
   "source": [
    "from dfply import *\n",
    "\n",
    "filtered_mpg = (cars >> mask((X.origin == \"japan\") & (X.model_year >= 70) & (X.model_year <= 79)) >> select(X.mpg) >> head(3))\n",
    "\n",
    "print(filtered_mpg)"
   ]
  },
  {
   "cell_type": "markdown",
   "metadata": {},
   "source": [
    "## DataFrame transformation\n",
    "\n",
    "*mutate()*\n",
    "\n",
    "The mutate() function is used to create new columns or modify existing columns. It accepts keyword arguments of the form new_column_name = new_column_value, where new_column_value is a symbolic Series object.\n",
    "\n",
    "### Exercise 11.\n",
    "\n",
    "Create a new column 'mpg_per_cylinder' in the cars DataFrame that is the result of dividing the 'mpg' column by the 'cylinders' column."
   ]
  },
  {
   "cell_type": "code",
   "execution_count": 33,
   "metadata": {},
   "outputs": [
    {
     "name": "stdout",
     "output_type": "stream",
     "text": [
      "      mpg  cylinders  displacement  horsepower  weight  acceleration  \\\n",
      "0    18.0          8         307.0       130.0    3504          12.0   \n",
      "1    15.0          8         350.0       165.0    3693          11.5   \n",
      "2    18.0          8         318.0       150.0    3436          11.0   \n",
      "3    16.0          8         304.0       150.0    3433          12.0   \n",
      "4    17.0          8         302.0       140.0    3449          10.5   \n",
      "..    ...        ...           ...         ...     ...           ...   \n",
      "393  27.0          4         140.0        86.0    2790          15.6   \n",
      "394  44.0          4          97.0        52.0    2130          24.6   \n",
      "395  32.0          4         135.0        84.0    2295          11.6   \n",
      "396  28.0          4         120.0        79.0    2625          18.6   \n",
      "397  31.0          4         119.0        82.0    2720          19.4   \n",
      "\n",
      "     model_year  origin                       name  mpg_pre_cylinder  \\\n",
      "0            70     usa  chevrolet chevelle malibu             2.250   \n",
      "1            70     usa          buick skylark 320             1.875   \n",
      "2            70     usa         plymouth satellite             2.250   \n",
      "3            70     usa              amc rebel sst             2.000   \n",
      "4            70     usa                ford torino             2.125   \n",
      "..          ...     ...                        ...               ...   \n",
      "393          82     usa            ford mustang gl             6.750   \n",
      "394          82  europe                  vw pickup            11.000   \n",
      "395          82     usa              dodge rampage             8.000   \n",
      "396          82     usa                ford ranger             7.000   \n",
      "397          82     usa                 chevy s-10             7.750   \n",
      "\n",
      "     mpg_per_cylinder  \n",
      "0               2.250  \n",
      "1               1.875  \n",
      "2               2.250  \n",
      "3               2.000  \n",
      "4               2.125  \n",
      "..                ...  \n",
      "393             6.750  \n",
      "394            11.000  \n",
      "395             8.000  \n",
      "396             7.000  \n",
      "397             7.750  \n",
      "\n",
      "[398 rows x 11 columns]\n"
     ]
    }
   ],
   "source": [
    "from dfply import *\n",
    "\n",
    "cars_transformed = cars >> mutate(mpg_per_cylinder=X.mpg / X.cylinders)\n",
    "print(cars_transformed)"
   ]
  },
  {
   "cell_type": "markdown",
   "metadata": {},
   "source": [
    "\n",
    "*transmute()*\n",
    "\n",
    "The transmute() function is a combination of a mutate and a selection of the created variables.\n",
    "\n",
    "### Exercise 12.\n",
    "\n",
    "Create a new column 'mpg_per_cylinder' in the cars DataFrame that is the result of dividing the 'mpg' column by the 'cylinders' column, and display only the new column."
   ]
  },
  {
   "cell_type": "code",
   "execution_count": 37,
   "metadata": {},
   "outputs": [
    {
     "name": "stdout",
     "output_type": "stream",
     "text": [
      "     mpg_per_cylinder\n",
      "0               2.250\n",
      "1               1.875\n",
      "2               2.250\n",
      "3               2.000\n",
      "4               2.125\n",
      "..                ...\n",
      "393             6.750\n",
      "394            11.000\n",
      "395             8.000\n",
      "396             7.000\n",
      "397             7.750\n",
      "\n",
      "[398 rows x 1 columns]\n"
     ]
    }
   ],
   "source": [
    "from dfply import *\n",
    "cars_transformed = cars >> transmute(mpg_per_cylinder=X.mpg / X.cylinders)\n",
    "print(cars_transformed)\n"
   ]
  },
  {
   "cell_type": "markdown",
   "metadata": {},
   "source": [
    "## Grouping\n",
    "\n",
    "*group_by() and ungroup()*\n",
    "\n",
    "The group_by() function is used to group the DataFrame by one or more columns. This is useful for creating groups of rows that can be summarized or transformed together. The ungroup() function is used to remove the grouping.\n",
    "\n",
    "### Exercise 13.\n",
    "\n",
    "Group the cars DataFrame by the 'origin' column and calculate the lead of the 'mpg' column."
   ]
  },
  {
   "cell_type": "code",
   "execution_count": 48,
   "metadata": {},
   "outputs": [
    {
     "name": "stdout",
     "output_type": "stream",
     "text": [
      "      mpg  cylinders  displacement  horsepower  weight  acceleration  \\\n",
      "19   26.0          4          97.0        46.0    1835          20.5   \n",
      "20   25.0          4         110.0        87.0    2672          17.5   \n",
      "21   24.0          4         107.0        90.0    2430          14.5   \n",
      "22   25.0          4         104.0        95.0    2375          17.5   \n",
      "23   26.0          4         121.0       113.0    2234          12.5   \n",
      "..    ...        ...           ...         ...     ...           ...   \n",
      "392  27.0          4         151.0        90.0    2950          17.3   \n",
      "393  27.0          4         140.0        86.0    2790          15.6   \n",
      "395  32.0          4         135.0        84.0    2295          11.6   \n",
      "396  28.0          4         120.0        79.0    2625          18.6   \n",
      "397  31.0          4         119.0        82.0    2720          19.4   \n",
      "\n",
      "     model_year  origin                          name  mpg_pre_cylinder  \\\n",
      "19           70  europe  volkswagen 1131 deluxe sedan              6.50   \n",
      "20           70  europe                   peugeot 504              6.25   \n",
      "21           70  europe                   audi 100 ls              6.00   \n",
      "22           70  europe                      saab 99e              6.25   \n",
      "23           70  europe                      bmw 2002              6.50   \n",
      "..          ...     ...                           ...               ...   \n",
      "392          82     usa              chevrolet camaro              6.75   \n",
      "393          82     usa               ford mustang gl              6.75   \n",
      "395          82     usa                 dodge rampage              8.00   \n",
      "396          82     usa                   ford ranger              7.00   \n",
      "397          82     usa                    chevy s-10              7.75   \n",
      "\n",
      "     mpg_lead  \n",
      "19       25.0  \n",
      "20       24.0  \n",
      "21       25.0  \n",
      "22       26.0  \n",
      "23       28.0  \n",
      "..        ...  \n",
      "392      27.0  \n",
      "393      32.0  \n",
      "395      28.0  \n",
      "396      31.0  \n",
      "397       NaN  \n",
      "\n",
      "[398 rows x 11 columns]\n"
     ]
    }
   ],
   "source": [
    "from dfply import *\n",
    "\n",
    "cars_grouped = cars >> group_by(X.origin) >> mutate(mpg_lead=lead(X.mpg))\n",
    "print(cars_grouped)"
   ]
  },
  {
   "cell_type": "markdown",
   "metadata": {},
   "source": [
    "## Reshaping\n",
    "\n",
    "*arrange()*\n",
    "\n",
    "The arrange() function is used to sort the DataFrame by one or more columns. This is useful for reordering the rows of the DataFrame.\n",
    "\n",
    "### Exercise 14.\n",
    "\n",
    "Sort the cars DataFrame by the 'mpg' column in descending order."
   ]
  },
  {
   "cell_type": "code",
   "execution_count": 54,
   "metadata": {},
   "outputs": [
    {
     "name": "stdout",
     "output_type": "stream",
     "text": [
      "      mpg  cylinders  displacement  horsepower  weight  acceleration  \\\n",
      "322  46.6          4          86.0        65.0    2110          17.9   \n",
      "329  44.6          4          91.0        67.0    1850          13.8   \n",
      "325  44.3          4          90.0        48.0    2085          21.7   \n",
      "394  44.0          4          97.0        52.0    2130          24.6   \n",
      "326  43.4          4          90.0        48.0    2335          23.7   \n",
      "..    ...        ...           ...         ...     ...           ...   \n",
      "67   11.0          8         429.0       208.0    4633          11.0   \n",
      "27   11.0          8         318.0       210.0    4382          13.5   \n",
      "25   10.0          8         360.0       215.0    4615          14.0   \n",
      "26   10.0          8         307.0       200.0    4376          15.0   \n",
      "28    9.0          8         304.0       193.0    4732          18.5   \n",
      "\n",
      "     model_year  origin                  name  mpg_pre_cylinder  \n",
      "322          80   japan             mazda glc            11.650  \n",
      "329          80   japan   honda civic 1500 gl            11.150  \n",
      "325          80  europe  vw rabbit c (diesel)            11.075  \n",
      "394          82  europe             vw pickup            11.000  \n",
      "326          80  europe    vw dasher (diesel)            10.850  \n",
      "..          ...     ...                   ...               ...  \n",
      "67           72     usa       mercury marquis             1.375  \n",
      "27           70     usa            dodge d200             1.375  \n",
      "25           70     usa             ford f250             1.250  \n",
      "26           70     usa             chevy c20             1.250  \n",
      "28           70     usa              hi 1200d             1.125  \n",
      "\n",
      "[398 rows x 10 columns]\n"
     ]
    }
   ],
   "source": [
    "from dfply import *\n",
    "\n",
    "sorted_cars = cars >> arrange(desc(X.mpg))\n",
    "print(sorted_cars)"
   ]
  },
  {
   "cell_type": "markdown",
   "metadata": {},
   "source": [
    "\n",
    "*rename()*\n",
    "\n",
    "The rename() function is used to rename columns in the DataFrame. It accepts keyword arguments of the form new_column_name = old_column_name.\n",
    "\n",
    "### Exercise 15.\n",
    "\n",
    "Rename the 'mpg' column to 'miles_per_gallon' in the cars DataFrame."
   ]
  },
  {
   "cell_type": "code",
   "execution_count": 58,
   "metadata": {},
   "outputs": [
    {
     "name": "stdout",
     "output_type": "stream",
     "text": [
      "     miles_per_gallon  cylinders  displacement  horsepower  weight  \\\n",
      "0                18.0          8         307.0       130.0    3504   \n",
      "1                15.0          8         350.0       165.0    3693   \n",
      "2                18.0          8         318.0       150.0    3436   \n",
      "3                16.0          8         304.0       150.0    3433   \n",
      "4                17.0          8         302.0       140.0    3449   \n",
      "..                ...        ...           ...         ...     ...   \n",
      "393              27.0          4         140.0        86.0    2790   \n",
      "394              44.0          4          97.0        52.0    2130   \n",
      "395              32.0          4         135.0        84.0    2295   \n",
      "396              28.0          4         120.0        79.0    2625   \n",
      "397              31.0          4         119.0        82.0    2720   \n",
      "\n",
      "     acceleration  model_year  origin                       name  \\\n",
      "0            12.0          70     usa  chevrolet chevelle malibu   \n",
      "1            11.5          70     usa          buick skylark 320   \n",
      "2            11.0          70     usa         plymouth satellite   \n",
      "3            12.0          70     usa              amc rebel sst   \n",
      "4            10.5          70     usa                ford torino   \n",
      "..            ...         ...     ...                        ...   \n",
      "393          15.6          82     usa            ford mustang gl   \n",
      "394          24.6          82  europe                  vw pickup   \n",
      "395          11.6          82     usa              dodge rampage   \n",
      "396          18.6          82     usa                ford ranger   \n",
      "397          19.4          82     usa                 chevy s-10   \n",
      "\n",
      "     mpg_pre_cylinder  \n",
      "0               2.250  \n",
      "1               1.875  \n",
      "2               2.250  \n",
      "3               2.000  \n",
      "4               2.125  \n",
      "..                ...  \n",
      "393             6.750  \n",
      "394            11.000  \n",
      "395             8.000  \n",
      "396             7.000  \n",
      "397             7.750  \n",
      "\n",
      "[398 rows x 10 columns]\n"
     ]
    }
   ],
   "source": [
    "from dfply import *\n",
    "\n",
    "renamed_cars = cars >> rename(miles_per_gallon=X.mpg)\n",
    "print(renamed_cars)"
   ]
  },
  {
   "cell_type": "markdown",
   "metadata": {},
   "source": [
    "\n",
    "*gather()*\n",
    "\n",
    "The gather() function is used to reshape the DataFrame from wide to long format. It accepts keyword arguments of the form new_column_name = new_column_value, where new_column_value is a symbolic Series object.\n",
    "\n",
    "### Exercise 16.\n",
    "\n",
    "Reshape the cars DataFrame from wide to long format by gathering the columns 'mpg', 'horsepower', 'weight', 'acceleration', and 'displacement' into a new column 'variable' and their values into a new column 'value'."
   ]
  },
  {
   "cell_type": "code",
   "execution_count": null,
   "metadata": {},
   "outputs": [
    {
     "name": "stdout",
     "output_type": "stream",
     "text": [
      "      cylinders  model_year  origin                       name  \\\n",
      "0             8          70     usa  chevrolet chevelle malibu   \n",
      "1             8          70     usa          buick skylark 320   \n",
      "2             8          70     usa         plymouth satellite   \n",
      "3             8          70     usa              amc rebel sst   \n",
      "4             8          70     usa                ford torino   \n",
      "...         ...         ...     ...                        ...   \n",
      "1985          4          82     usa            ford mustang gl   \n",
      "1986          4          82  europe                  vw pickup   \n",
      "1987          4          82     usa              dodge rampage   \n",
      "1988          4          82     usa                ford ranger   \n",
      "1989          4          82     usa                 chevy s-10   \n",
      "\n",
      "      mpg_pre_cylinder      variable  value  \n",
      "0                2.250           mpg   18.0  \n",
      "1                1.875           mpg   15.0  \n",
      "2                2.250           mpg   18.0  \n",
      "3                2.000           mpg   16.0  \n",
      "4                2.125           mpg   17.0  \n",
      "...                ...           ...    ...  \n",
      "1985             6.750  displacement  140.0  \n",
      "1986            11.000  displacement   97.0  \n",
      "1987             8.000  displacement  135.0  \n",
      "1988             7.000  displacement  120.0  \n",
      "1989             7.750  displacement  119.0  \n",
      "\n",
      "[1990 rows x 7 columns]\n"
     ]
    }
   ],
   "source": [
    "from dfply import *\n",
    "\n",
    "long_cars = cars.melt()\n",
    "print(long_cars)"
   ]
  },
  {
   "cell_type": "markdown",
   "metadata": {},
   "source": [
    "\n",
    "*spread()*\n",
    "\n",
    "Likewise, you can transform a \"long\" DataFrame into a \"wide\" format with the spread(key, values) function. Converting the previously created elongated DataFrame for example would be done like so.\n",
    "\n",
    "### Exercise 17.\n",
    "\n",
    "Reshape the cars DataFrame from long to wide format by spreading the 'variable' column into columns and their values into the 'value' column."
   ]
  },
  {
   "cell_type": "code",
   "execution_count": 82,
   "metadata": {},
   "outputs": [
    {
     "name": "stdout",
     "output_type": "stream",
     "text": [
      "      level_0  index  cylinders  model_year  origin  \\\n",
      "0           0      0          8          70     usa   \n",
      "1           1      1          8          70     usa   \n",
      "2           2      2          8          70     usa   \n",
      "3           3      3          8          70     usa   \n",
      "4           4      4          8          70     usa   \n",
      "...       ...    ...        ...         ...     ...   \n",
      "1985     1985   1985          4          82     usa   \n",
      "1986     1986   1986          4          82  europe   \n",
      "1987     1987   1987          4          82     usa   \n",
      "1988     1988   1988          4          82     usa   \n",
      "1989     1989   1989          4          82     usa   \n",
      "\n",
      "                           name  acceleration  displacement  horsepower   mpg  \\\n",
      "0     chevrolet chevelle malibu           NaN           NaN         NaN  18.0   \n",
      "1             buick skylark 320           NaN           NaN         NaN  15.0   \n",
      "2            plymouth satellite           NaN           NaN         NaN  18.0   \n",
      "3                 amc rebel sst           NaN           NaN         NaN  16.0   \n",
      "4                   ford torino           NaN           NaN         NaN  17.0   \n",
      "...                         ...           ...           ...         ...   ...   \n",
      "1985            ford mustang gl           NaN         140.0         NaN   NaN   \n",
      "1986                  vw pickup           NaN          97.0         NaN   NaN   \n",
      "1987              dodge rampage           NaN         135.0         NaN   NaN   \n",
      "1988                ford ranger           NaN         120.0         NaN   NaN   \n",
      "1989                 chevy s-10           NaN         119.0         NaN   NaN   \n",
      "\n",
      "      weight  \n",
      "0        NaN  \n",
      "1        NaN  \n",
      "2        NaN  \n",
      "3        NaN  \n",
      "4        NaN  \n",
      "...      ...  \n",
      "1985     NaN  \n",
      "1986     NaN  \n",
      "1987     NaN  \n",
      "1988     NaN  \n",
      "1989     NaN  \n",
      "\n",
      "[1990 rows x 11 columns]\n"
     ]
    }
   ],
   "source": [
    "from dfply import *\n",
    "\n",
    "wide_cars = long_cars >> spread(X.variable, X.value)\n",
    "print(wide_cars)"
   ]
  },
  {
   "cell_type": "markdown",
   "metadata": {},
   "source": [
    "\n",
    "## Summarization\n",
    "\n",
    "*summarize()*\n",
    "\n",
    "The summarize() function is used to calculate summary statistics for groups of rows. It accepts keyword arguments of the form new_column_name = new_column_value, where new_column_value is a symbolic Series object.\n",
    "\n",
    "### Exercise 18.\n",
    "\n",
    "Calculate the mean 'mpg' for each group of 'origin' in the cars DataFrame."
   ]
  },
  {
   "cell_type": "code",
   "execution_count": null,
   "metadata": {},
   "outputs": [
    {
     "name": "stdout",
     "output_type": "stream",
     "text": [
      "   origin   mean_mpg\n",
      "0  europe  27.891429\n",
      "1   japan  30.450633\n",
      "2     usa  20.083534\n"
     ]
    }
   ],
   "source": [
    "from dfply import *\n",
    "\n",
    "mean_mpg_by_origin = cars >> group_by(X.origin) >> summarize(mean_mpg=X.mpg.mean())\n",
    "print(mean_mpg_by_origin)"
   ]
  },
  {
   "cell_type": "markdown",
   "metadata": {},
   "source": [
    "\n",
    "*summarize_each()*\n",
    "\n",
    "The summarize_each() function is used to calculate summary statistics for groups of rows. It accepts keyword arguments of the form new_column_name = new_column_value, where new_column_value is a symbolic Series object.\n",
    "\n",
    "### Exercise 19.\n",
    "\n",
    "Calculate the mean 'mpg' and 'horsepower' for each group of 'origin' in the cars DataFrame."
   ]
  },
  {
   "cell_type": "code",
   "execution_count": null,
   "metadata": {},
   "outputs": [
    {
     "name": "stdout",
     "output_type": "stream",
     "text": [
      "   origin   mean_mpg  mean_horsepower\n",
      "0  europe  27.891429        80.558824\n",
      "1   japan  30.450633        79.835443\n",
      "2     usa  20.083534       119.048980\n"
     ]
    }
   ],
   "source": [
    "from dfply import *\n",
    "\n",
    "mean_stats_by_origin = (cars >> group_by(X.origin) >> summarize(mean_mpg=X.mpg.mean(), mean_horsepower=X.horsepower.mean())\n",
    ")\n",
    "print(mean_stats_by_origin)"
   ]
  },
  {
   "cell_type": "markdown",
   "metadata": {},
   "source": [
    "\n",
    "*summarize() can of course be used with groupings as well.*\n",
    "\n",
    "### Exercise 20.\n",
    "\n",
    "Calculate the mean 'mpg' for each group of 'origin' and 'model_year' in the cars DataFrame."
   ]
  },
  {
   "cell_type": "code",
   "execution_count": null,
   "metadata": {},
   "outputs": [
    {
     "name": "stdout",
     "output_type": "stream",
     "text": [
      "    model_year  origin   mean_mpg\n",
      "0           70  europe  25.200000\n",
      "1           71  europe  28.750000\n",
      "2           72  europe  22.000000\n",
      "3           73  europe  24.000000\n",
      "4           74  europe  27.000000\n",
      "5           75  europe  24.500000\n",
      "6           76  europe  24.250000\n",
      "7           77  europe  29.250000\n",
      "8           78  europe  24.950000\n",
      "9           79  europe  30.450000\n",
      "10          80  europe  37.288889\n",
      "11          81  europe  31.575000\n",
      "12          82  europe  40.000000\n",
      "13          70   japan  25.500000\n",
      "14          71   japan  29.500000\n",
      "15          72   japan  24.200000\n",
      "16          73   japan  20.000000\n",
      "17          74   japan  29.333333\n",
      "18          75   japan  27.500000\n",
      "19          76   japan  28.000000\n",
      "20          77   japan  27.416667\n",
      "21          78   japan  29.687500\n",
      "22          79   japan  32.950000\n",
      "23          80   japan  35.400000\n",
      "24          81   japan  32.958333\n",
      "25          82   japan  34.888889\n",
      "26          70     usa  15.272727\n",
      "27          71     usa  18.100000\n",
      "28          72     usa  16.277778\n",
      "29          73     usa  15.034483\n",
      "30          74     usa  18.333333\n",
      "31          75     usa  17.550000\n",
      "32          76     usa  19.431818\n",
      "33          77     usa  20.722222\n",
      "34          78     usa  21.772727\n",
      "35          79     usa  23.478261\n",
      "36          80     usa  25.914286\n",
      "37          81     usa  27.530769\n",
      "38          82     usa  29.450000\n"
     ]
    }
   ],
   "source": [
    "from dfply import *\n",
    "\n",
    "mean_mpg_by_origin_year = (cars >> group_by(X.origin, X.model_year) >> summarize(mean_mpg=X.mpg.mean()))\n",
    "print(mean_mpg_by_origin_year)"
   ]
  }
 ],
 "metadata": {
  "kernelspec": {
   "display_name": "Python 3",
   "language": "python",
   "name": "python3"
  },
  "language_info": {
   "codemirror_mode": {
    "name": "ipython",
    "version": 3
   },
   "file_extension": ".py",
   "mimetype": "text/x-python",
   "name": "python",
   "nbconvert_exporter": "python",
   "pygments_lexer": "ipython3",
   "version": "3.13.2"
  }
 },
 "nbformat": 4,
 "nbformat_minor": 2
}
